{
 "cells": [
  {
   "cell_type": "code",
   "execution_count": 1,
   "metadata": {},
   "outputs": [
    {
     "data": {
      "text/plain": [
       "blog.models.Post"
      ]
     },
     "execution_count": 1,
     "metadata": {},
     "output_type": "execute_result"
    }
   ],
   "source": [
    "Post"
   ]
  },
  {
   "cell_type": "code",
   "execution_count": 8,
   "metadata": {},
   "outputs": [
    {
     "data": {
      "text/plain": [
       "<QuerySet [<Post: Post object (1)>]>"
      ]
     },
     "execution_count": 8,
     "metadata": {},
     "output_type": "execute_result"
    }
   ],
   "source": [
    "Post.objects.all().order_by('-id')[:]"
   ]
  },
  {
   "cell_type": "code",
   "execution_count": 4,
   "metadata": {},
   "outputs": [
    {
     "data": {
      "text/plain": [
       "django.db.models.query.QuerySet"
      ]
     },
     "execution_count": 4,
     "metadata": {},
     "output_type": "execute_result"
    }
   ],
   "source": [
    "Post.objects.all().__class__"
   ]
  },
  {
   "cell_type": "code",
   "execution_count": 5,
   "metadata": {},
   "outputs": [
    {
     "data": {
      "text/plain": [
       "{'sql': 'SELECT \"blog_post\".\"id\", \"blog_post\".\"author\", \"blog_post\".\"title\", \"blog_post\".\"content\", \"blog_post\".\"tags\", \"blog_post\".\"lnglat\", \"blog_post\".\"status\", \"blog_post\".\"created_at\", \"blog_post\".\"upgraded_at\" FROM \"blog_post\"  LIMIT 21',\n",
       " 'time': '0.004'}"
      ]
     },
     "execution_count": 5,
     "metadata": {},
     "output_type": "execute_result"
    }
   ],
   "source": [
    "from django.db import connection\n",
    "connection.queries[-1] "
   ]
  },
  {
   "cell_type": "code",
   "execution_count": 9,
   "metadata": {},
   "outputs": [
    {
     "data": {
      "text/plain": [
       "<Post: Post object (2)>"
      ]
     },
     "execution_count": 9,
     "metadata": {},
     "output_type": "execute_result"
    }
   ],
   "source": [
    "Post.objects.create(title = '제목이야', content='내용이야', author = '나야', status='d')"
   ]
  },
  {
   "cell_type": "code",
   "execution_count": 1,
   "metadata": {},
   "outputs": [
    {
     "data": {
      "text/plain": [
       "<QuerySet [<Post: 제목이야>]>"
      ]
     },
     "execution_count": 1,
     "metadata": {},
     "output_type": "execute_result"
    }
   ],
   "source": [
    "Post.objects.all().filter(title__icontains='제목')"
   ]
  },
  {
   "cell_type": "code",
   "execution_count": 3,
   "metadata": {},
   "outputs": [
    {
     "name": "stdout",
     "output_type": "stream",
     "text": [
      "정부 관계자 \"모든 중재안 테이블 올릴 수 있어…대화로 풀어야\"(종합)\n",
      "제목이야\n"
     ]
    }
   ],
   "source": [
    "for post in Post.objects.all():\n",
    "    print(str(post)) #def __str__(Self) "
   ]
  },
  {
   "cell_type": "code",
   "execution_count": 5,
   "metadata": {},
   "outputs": [],
   "source": [
    "import random\n",
    "for i in range(1000):\n",
    "    status = random.choice(['d', 'p', 'w'])\n",
    "    Post.objects.create(author='김범수', title='feel so good{}'.format(i), content='actually bad', status = status)"
   ]
  },
  {
   "cell_type": "code",
   "execution_count": 6,
   "metadata": {},
   "outputs": [
    {
     "data": {
      "text/plain": [
       "1002"
      ]
     },
     "execution_count": 6,
     "metadata": {},
     "output_type": "execute_result"
    }
   ],
   "source": [
    "Post.objects.all().count()"
   ]
  },
  {
   "cell_type": "code",
   "execution_count": 8,
   "metadata": {},
   "outputs": [
    {
     "name": "stdout",
     "output_type": "stream",
     "text": [
      "<QuerySet [<Post: feel so good13>, <Post: feel so good103>, <Post: feel so good113>, <Post: feel so good123>, <Post: feel so good133>, <Post: feel so good143>, <Post: feel so good153>, <Post: feel so good163>, <Post: feel so good173>, <Post: feel so good183>, <Post: feel so good193>, <Post: feel so good213>, <Post: feel so good313>, <Post: feel so good413>, <Post: feel so good513>, <Post: feel so good613>, <Post: feel so good713>, <Post: feel so good813>, <Post: feel so good913>]>\n",
      "<QuerySet [<Post: feel so good13>, <Post: feel so good103>, <Post: feel so good113>, <Post: feel so good123>, <Post: feel so good133>, <Post: feel so good143>, <Post: feel so good153>, <Post: feel so good163>, <Post: feel so good173>, <Post: feel so good183>, <Post: feel so good193>, <Post: feel so good213>, <Post: feel so good313>, <Post: feel so good413>, <Post: feel so good513>, <Post: feel so good613>, <Post: feel so good713>, <Post: feel so good813>, <Post: feel so good913>]>\n"
     ]
    }
   ],
   "source": [
    "qs1 = Post.objects.filter(title__icontains='1', title__endswith='3')\n",
    "print(qs1)\n",
    "qs2 = Post.objects.filter(title__icontains='1').filter(title__endswith='3')\n",
    "print(qs2)"
   ]
  },
  {
   "cell_type": "code",
   "execution_count": 9,
   "metadata": {},
   "outputs": [
    {
     "data": {
      "text/plain": [
       "<QuerySet [<Post: feel so good1>, <Post: feel so good10>, <Post: feel so good11>, <Post: feel so good12>, <Post: feel so good14>, <Post: feel so good15>, <Post: feel so good16>, <Post: feel so good17>, <Post: feel so good18>, <Post: feel so good19>, <Post: feel so good21>, <Post: feel so good31>, <Post: feel so good41>, <Post: feel so good51>, <Post: feel so good61>, <Post: feel so good71>, <Post: feel so good81>, <Post: feel so good91>, <Post: feel so good100>, <Post: feel so good101>, '...(remaining elements truncated)...']>"
      ]
     },
     "execution_count": 9,
     "metadata": {},
     "output_type": "execute_result"
    }
   ],
   "source": [
    "Post.objects.filter(title__icontains='1').exclude(title__endswith='3')"
   ]
  },
  {
   "cell_type": "code",
   "execution_count": 10,
   "metadata": {},
   "outputs": [],
   "source": [
    "from django.db.models import Q"
   ]
  },
  {
   "cell_type": "code",
   "execution_count": 12,
   "metadata": {},
   "outputs": [
    {
     "data": {
      "text/plain": [
       "<QuerySet [<Post: feel so good1>, <Post: feel so good3>, <Post: feel so good10>, <Post: feel so good11>, <Post: feel so good12>, <Post: feel so good13>, <Post: feel so good14>, <Post: feel so good15>, <Post: feel so good16>, <Post: feel so good17>, <Post: feel so good18>, <Post: feel so good19>, <Post: feel so good21>, <Post: feel so good23>, <Post: feel so good31>, <Post: feel so good33>, <Post: feel so good41>, <Post: feel so good43>, <Post: feel so good51>, <Post: feel so good53>, '...(remaining elements truncated)...']>"
      ]
     },
     "execution_count": 12,
     "metadata": {},
     "output_type": "execute_result"
    }
   ],
   "source": [
    "Post.objects.filter(Q(title__icontains='1') | Q(title__endswith='3') )"
   ]
  },
  {
   "cell_type": "code",
   "execution_count": 14,
   "metadata": {},
   "outputs": [
    {
     "name": "stdout",
     "output_type": "stream",
     "text": [
      "<QuerySet [<Post: feel so good19>, <Post: feel so good91>, <Post: feel so good93>, <Post: feel so good109>, <Post: feel so good119>, <Post: feel so good129>, <Post: feel so good139>, <Post: feel so good159>, <Post: feel so good169>, <Post: feel so good179>, <Post: feel so good189>, <Post: feel so good190>, <Post: feel so good191>, <Post: feel so good192>, <Post: feel so good193>, <Post: feel so good195>, <Post: feel so good196>, <Post: feel so good197>, <Post: feel so good198>, <Post: feel so good199>, '...(remaining elements truncated)...']>\n"
     ]
    }
   ],
   "source": [
    "qs = Post.objects.filter(Q(title__icontains='1') | Q(title__endswith='3') )\n",
    "qs = qs.filter(title__icontains='9')\n",
    "qs = qs.exclude(title__icontains='4')\n",
    "print(qs)"
   ]
  },
  {
   "cell_type": "code",
   "execution_count": 15,
   "metadata": {},
   "outputs": [
    {
     "data": {
      "text/plain": [
       "<QuerySet [<Post: feel so good19>, <Post: feel so good91>, <Post: feel so good93>, <Post: feel so good109>, <Post: feel so good119>, <Post: feel so good129>, <Post: feel so good139>, <Post: feel so good159>, <Post: feel so good169>, <Post: feel so good179>, <Post: feel so good189>, <Post: feel so good190>, <Post: feel so good191>, <Post: feel so good192>, <Post: feel so good193>, <Post: feel so good195>, <Post: feel so good196>, <Post: feel so good197>, <Post: feel so good198>, <Post: feel so good199>, '...(remaining elements truncated)...']>"
      ]
     },
     "execution_count": 15,
     "metadata": {},
     "output_type": "execute_result"
    }
   ],
   "source": [
    "qs"
   ]
  },
  {
   "cell_type": "code",
   "execution_count": null,
   "metadata": {},
   "outputs": [],
   "source": []
  },
  {
   "cell_type": "code",
   "execution_count": 16,
   "metadata": {},
   "outputs": [
    {
     "data": {
      "text/plain": [
       "<QuerySet [<Post: feel so good993>, <Post: feel so good991>, <Post: feel so good983>, <Post: feel so good981>, <Post: feel so good973>, <Post: feel so good971>, <Post: feel so good963>, <Post: feel so good961>, <Post: feel so good953>, <Post: feel so good951>]>"
      ]
     },
     "execution_count": 16,
     "metadata": {},
     "output_type": "execute_result"
    }
   ],
   "source": [
    "qs.order_by('-id')[:10]"
   ]
  },
  {
   "cell_type": "code",
   "execution_count": null,
   "metadata": {},
   "outputs": [],
   "source": []
  },
  {
   "cell_type": "code",
   "execution_count": null,
   "metadata": {},
   "outputs": [],
   "source": []
  },
  {
   "cell_type": "code",
   "execution_count": null,
   "metadata": {},
   "outputs": [],
   "source": []
  }
 ],
 "metadata": {
  "kernelspec": {
   "display_name": "Django Shell-Plus",
   "language": "python",
   "name": "django_extensions"
  },
  "language_info": {
   "codemirror_mode": {
    "name": "ipython",
    "version": 3
   },
   "file_extension": ".py",
   "mimetype": "text/x-python",
   "name": "python",
   "nbconvert_exporter": "python",
   "pygments_lexer": "ipython3",
   "version": "3.7.3"
  }
 },
 "nbformat": 4,
 "nbformat_minor": 2
}
